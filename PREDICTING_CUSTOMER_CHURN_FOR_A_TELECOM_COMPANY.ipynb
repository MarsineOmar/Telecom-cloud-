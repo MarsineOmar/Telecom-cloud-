{
  "nbformat": 4,
  "nbformat_minor": 0,
  "metadata": {
    "colab": {
      "name": "PREDICTING CUSTOMER CHURN FOR A TELECOM COMPANY.ipynb",
      "provenance": [],
      "collapsed_sections": [],
      "toc_visible": true,
      "mount_file_id": "1mvpJPiTRqOMs9aHzw2mD_2wLC_NbUuBC",
      "authorship_tag": "ABX9TyNDiLTSxM37EfZdQbKrGZor",
      "include_colab_link": true
    },
    "kernelspec": {
      "name": "python3",
      "display_name": "Python 3"
    }
  },
  "cells": [
    {
      "cell_type": "markdown",
      "metadata": {
        "id": "view-in-github",
        "colab_type": "text"
      },
      "source": [
        "<a href=\"https://colab.research.google.com/github/MarsineOmar/Telecom-cloud-/blob/main/PREDICTING_CUSTOMER_CHURN_FOR_A_TELECOM_COMPANY.ipynb\" target=\"_parent\"><img src=\"https://colab.research.google.com/assets/colab-badge.svg\" alt=\"Open In Colab\"/></a>"
      ]
    },
    {
      "cell_type": "markdown",
      "metadata": {
        "id": "EupNREiwPOut"
      },
      "source": [
        "**Import required libraries**"
      ]
    },
    {
      "cell_type": "code",
      "metadata": {
        "id": "CXCJRFW-kuxJ"
      },
      "source": [
        "import numpy as np\r\n",
        "import pandas as pd\r\n",
        "from matplotlib import pyplot as plt\r\n",
        "from sklearn.model_selection import train_test_split\r\n",
        " \r\n",
        "import keras\r\n",
        "from keras.models import Sequential\r\n",
        "from keras.layers import InputLayer\r\n",
        "from keras.layers import Dense\r\n",
        "from keras.layers import Dropout\r\n",
        "from keras.constraints import maxnorm"
      ],
      "execution_count": 1,
      "outputs": []
    },
    {
      "cell_type": "code",
      "metadata": {
        "id": "GbXFlk9ekvmj"
      },
      "source": [
        "data = pd.read_csv('/content/WA_Fn-UseC_-Telco-Customer-Churn.csv')"
      ],
      "execution_count": 2,
      "outputs": []
    },
    {
      "cell_type": "code",
      "metadata": {
        "id": "iFlbcSVukvtk"
      },
      "source": [
        "data.SeniorCitizen.replace([0, 1], [\"No\", \"Yes\"], inplace= True)\r\n",
        "data.TotalCharges.replace([\" \"], [\"0\"], inplace= True)\r\n",
        "data.TotalCharges = data.TotalCharges.astype(float)\r\n",
        "data.drop(\"customerID\", axis= 1, inplace= True)\r\n",
        "data.Churn.replace([\"Yes\", \"No\"], [1, 0], inplace= True)"
      ],
      "execution_count": 3,
      "outputs": []
    },
    {
      "cell_type": "code",
      "metadata": {
        "id": "WsLHMgW3kv0_"
      },
      "source": [
        "data = pd.get_dummies(data)"
      ],
      "execution_count": 4,
      "outputs": []
    },
    {
      "cell_type": "code",
      "metadata": {
        "id": "a3R29Xy8kwDt"
      },
      "source": [
        "X = data.drop(\"Churn\", axis= 1)\r\n",
        "y = data.Churn"
      ],
      "execution_count": 5,
      "outputs": []
    },
    {
      "cell_type": "code",
      "metadata": {
        "id": "QaTAMXl8kwLj"
      },
      "source": [
        "X_train, X_test, y_train, y_test = train_test_split(X, y, test_size= 0.2, random_state= 1234)\r\n"
      ],
      "execution_count": 6,
      "outputs": []
    },
    {
      "cell_type": "code",
      "metadata": {
        "id": "TyNOzOgxkqvw"
      },
      "source": [
        "model = Sequential()\r\n",
        "model.add(Dense(16, input_dim=46, activation='relu', kernel_constraint=maxnorm(3)))\r\n",
        "model.add(Dropout(rate=0.2))\r\n",
        "model.add(Dense(8, activation='relu', kernel_constraint=maxnorm(3)))\r\n",
        "model.add(Dropout(rate=0.2))\r\n",
        "model.add(Dense(1, activation='sigmoid'))\r\n",
        "model.compile(loss = \"binary_crossentropy\", optimizer = 'adam', metrics=['accuracy'])\r\n"
      ],
      "execution_count": 7,
      "outputs": []
    },
    {
      "cell_type": "code",
      "metadata": {
        "colab": {
          "base_uri": "https://localhost:8080/"
        },
        "id": "yjRijPnSlYAl",
        "outputId": "1f680d6e-a4f1-47d4-a924-82e89641aac0"
      },
      "source": [
        "history = model.fit(X_train, y_train, validation_data=(X_test, y_test), epochs=40, batch_size=10)\r\n"
      ],
      "execution_count": 8,
      "outputs": [
        {
          "output_type": "stream",
          "text": [
            "Epoch 1/40\n",
            "564/564 [==============================] - 2s 2ms/step - loss: 44.8314 - accuracy: 0.5716 - val_loss: 0.6790 - val_accuracy: 0.7424\n",
            "Epoch 2/40\n",
            "564/564 [==============================] - 1s 2ms/step - loss: 1.7253 - accuracy: 0.7255 - val_loss: 0.6164 - val_accuracy: 0.7424\n",
            "Epoch 3/40\n",
            "564/564 [==============================] - 1s 2ms/step - loss: 1.0442 - accuracy: 0.7287 - val_loss: 0.5880 - val_accuracy: 0.7424\n",
            "Epoch 4/40\n",
            "564/564 [==============================] - 1s 2ms/step - loss: 0.9983 - accuracy: 0.7329 - val_loss: 0.5768 - val_accuracy: 0.7424\n",
            "Epoch 5/40\n",
            "564/564 [==============================] - 1s 2ms/step - loss: 0.7262 - accuracy: 0.7315 - val_loss: 0.5735 - val_accuracy: 0.7424\n",
            "Epoch 6/40\n",
            "564/564 [==============================] - 1s 2ms/step - loss: 0.6165 - accuracy: 0.7254 - val_loss: 0.5718 - val_accuracy: 0.7424\n",
            "Epoch 7/40\n",
            "564/564 [==============================] - 1s 2ms/step - loss: 0.6413 - accuracy: 0.7379 - val_loss: 0.5714 - val_accuracy: 0.7424\n",
            "Epoch 8/40\n",
            "564/564 [==============================] - 1s 2ms/step - loss: 0.6135 - accuracy: 0.7384 - val_loss: 0.5712 - val_accuracy: 0.7424\n",
            "Epoch 9/40\n",
            "564/564 [==============================] - 1s 2ms/step - loss: 0.5886 - accuracy: 0.7288 - val_loss: 0.5709 - val_accuracy: 0.7424\n",
            "Epoch 10/40\n",
            "564/564 [==============================] - 1s 2ms/step - loss: 0.6665 - accuracy: 0.7255 - val_loss: 0.5708 - val_accuracy: 0.7424\n",
            "Epoch 11/40\n",
            "564/564 [==============================] - 1s 2ms/step - loss: 0.5930 - accuracy: 0.7297 - val_loss: 0.5704 - val_accuracy: 0.7424\n",
            "Epoch 12/40\n",
            "564/564 [==============================] - 1s 2ms/step - loss: 0.6103 - accuracy: 0.7218 - val_loss: 0.5702 - val_accuracy: 0.7424\n",
            "Epoch 13/40\n",
            "564/564 [==============================] - 1s 2ms/step - loss: 0.5801 - accuracy: 0.7357 - val_loss: 0.5701 - val_accuracy: 0.7424\n",
            "Epoch 14/40\n",
            "564/564 [==============================] - 1s 2ms/step - loss: 0.5905 - accuracy: 0.7345 - val_loss: 0.5701 - val_accuracy: 0.7424\n",
            "Epoch 15/40\n",
            "564/564 [==============================] - 1s 2ms/step - loss: 0.5870 - accuracy: 0.7258 - val_loss: 0.5700 - val_accuracy: 0.7424\n",
            "Epoch 16/40\n",
            "564/564 [==============================] - 1s 2ms/step - loss: 0.5997 - accuracy: 0.7245 - val_loss: 0.5700 - val_accuracy: 0.7424\n",
            "Epoch 17/40\n",
            "564/564 [==============================] - 1s 2ms/step - loss: 0.5905 - accuracy: 0.7242 - val_loss: 0.5699 - val_accuracy: 0.7424\n",
            "Epoch 18/40\n",
            "564/564 [==============================] - 1s 2ms/step - loss: 0.5867 - accuracy: 0.7261 - val_loss: 0.5700 - val_accuracy: 0.7424\n",
            "Epoch 19/40\n",
            "564/564 [==============================] - 1s 2ms/step - loss: 0.5809 - accuracy: 0.7329 - val_loss: 0.5700 - val_accuracy: 0.7424\n",
            "Epoch 20/40\n",
            "564/564 [==============================] - 1s 2ms/step - loss: 0.5811 - accuracy: 0.7330 - val_loss: 0.5700 - val_accuracy: 0.7424\n",
            "Epoch 21/40\n",
            "564/564 [==============================] - 1s 2ms/step - loss: 0.5808 - accuracy: 0.7318 - val_loss: 0.5700 - val_accuracy: 0.7424\n",
            "Epoch 22/40\n",
            "564/564 [==============================] - 1s 2ms/step - loss: 0.5784 - accuracy: 0.7373 - val_loss: 0.5700 - val_accuracy: 0.7424\n",
            "Epoch 23/40\n",
            "564/564 [==============================] - 1s 2ms/step - loss: 0.5732 - accuracy: 0.7400 - val_loss: 0.5700 - val_accuracy: 0.7424\n",
            "Epoch 24/40\n",
            "564/564 [==============================] - 1s 2ms/step - loss: 0.5781 - accuracy: 0.7350 - val_loss: 0.5700 - val_accuracy: 0.7424\n",
            "Epoch 25/40\n",
            "564/564 [==============================] - 1s 2ms/step - loss: 0.5945 - accuracy: 0.7246 - val_loss: 0.5700 - val_accuracy: 0.7424\n",
            "Epoch 26/40\n",
            "564/564 [==============================] - 1s 2ms/step - loss: 0.5683 - accuracy: 0.7441 - val_loss: 0.5700 - val_accuracy: 0.7424\n",
            "Epoch 27/40\n",
            "564/564 [==============================] - 1s 2ms/step - loss: 0.5900 - accuracy: 0.7248 - val_loss: 0.5699 - val_accuracy: 0.7424\n",
            "Epoch 28/40\n",
            "564/564 [==============================] - 1s 2ms/step - loss: 0.5843 - accuracy: 0.7290 - val_loss: 0.5699 - val_accuracy: 0.7424\n",
            "Epoch 29/40\n",
            "564/564 [==============================] - 1s 2ms/step - loss: 0.5860 - accuracy: 0.7270 - val_loss: 0.5699 - val_accuracy: 0.7424\n",
            "Epoch 30/40\n",
            "564/564 [==============================] - 1s 2ms/step - loss: 0.5871 - accuracy: 0.7263 - val_loss: 0.5699 - val_accuracy: 0.7424\n",
            "Epoch 31/40\n",
            "564/564 [==============================] - 1s 2ms/step - loss: 0.5858 - accuracy: 0.7288 - val_loss: 0.5699 - val_accuracy: 0.7424\n",
            "Epoch 32/40\n",
            "564/564 [==============================] - 1s 2ms/step - loss: 0.5715 - accuracy: 0.7404 - val_loss: 0.5700 - val_accuracy: 0.7424\n",
            "Epoch 33/40\n",
            "564/564 [==============================] - 1s 2ms/step - loss: 0.5765 - accuracy: 0.7362 - val_loss: 0.5700 - val_accuracy: 0.7424\n",
            "Epoch 34/40\n",
            "564/564 [==============================] - 1s 2ms/step - loss: 0.5889 - accuracy: 0.7244 - val_loss: 0.5700 - val_accuracy: 0.7424\n",
            "Epoch 35/40\n",
            "564/564 [==============================] - 1s 2ms/step - loss: 0.5931 - accuracy: 0.7199 - val_loss: 0.5699 - val_accuracy: 0.7424\n",
            "Epoch 36/40\n",
            "564/564 [==============================] - 1s 1ms/step - loss: 0.5902 - accuracy: 0.7228 - val_loss: 0.5699 - val_accuracy: 0.7424\n",
            "Epoch 37/40\n",
            "564/564 [==============================] - 1s 2ms/step - loss: 0.5722 - accuracy: 0.7402 - val_loss: 0.5700 - val_accuracy: 0.7424\n",
            "Epoch 38/40\n",
            "564/564 [==============================] - 1s 1ms/step - loss: 0.5838 - accuracy: 0.7294 - val_loss: 0.5699 - val_accuracy: 0.7424\n",
            "Epoch 39/40\n",
            "564/564 [==============================] - 1s 2ms/step - loss: 0.5741 - accuracy: 0.7392 - val_loss: 0.5700 - val_accuracy: 0.7424\n",
            "Epoch 40/40\n",
            "564/564 [==============================] - 1s 2ms/step - loss: 0.5734 - accuracy: 0.7389 - val_loss: 0.5700 - val_accuracy: 0.7424\n"
          ],
          "name": "stdout"
        }
      ]
    },
    {
      "cell_type": "code",
      "metadata": {
        "colab": {
          "base_uri": "https://localhost:8080/",
          "height": 295
        },
        "id": "mZ-qouc1lVL3",
        "outputId": "fc3e8532-65cc-47d9-ec52-fb612db9b9ed"
      },
      "source": [
        "plt.plot(history.history['accuracy'])\r\n",
        "plt.plot(history.history['val_accuracy'])\r\n",
        "plt.title('model accuracy')\r\n",
        "plt.ylabel('accuracy')\r\n",
        "plt.xlabel('epoch')\r\n",
        "plt.legend(['train', 'test'], loc='upper left')\r\n",
        "plt.show()"
      ],
      "execution_count": 10,
      "outputs": [
        {
          "output_type": "display_data",
          "data": {
            "image/png": "[encoded data removed]",
            "text/plain": [
              "<Figure size 432x288 with 1 Axes>"
            ]
          },
          "metadata": {
            "tags": [],
            "needs_background": "light"
          }
        }
      ]
    },
    {
      "cell_type": "code",
      "metadata": {
        "colab": {
          "base_uri": "https://localhost:8080/"
        },
        "id": "WVVA6-gJnICL",
        "outputId": "7ab2814e-97ef-4602-ca9f-7155f12fd59c"
      },
      "source": [
        "# serialize model to JSON\r\n",
        "model_json = model.to_json()\r\n",
        "with open(\"model.json\", \"w\") as json_file:\r\n",
        "    json_file.write(model_json)\r\n",
        " \r\n",
        "# serialize weights to HDF5\r\n",
        "model.save_weights(\"model.h5\")\r\n",
        "print(\"Saved model to disk\")"
      ],
      "execution_count": 11,
      "outputs": [
        {
          "output_type": "stream",
          "text": [
            "Saved model to disk\n"
          ],
          "name": "stdout"
        }
      ]
    }
  ]
}